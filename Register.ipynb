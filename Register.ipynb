{
 "cells": [
  {
   "cell_type": "code",
   "execution_count": 2,
   "id": "1aef4dea-a131-4b48-b7c8-e5d815766adf",
   "metadata": {},
   "outputs": [
    {
     "name": "stderr",
     "output_type": "stream",
     "text": [
      "[WDM] - Downloading: 100%|████████████████████████████████████████████████████████| 6.81M/6.81M [00:00<00:00, 11.7MB/s]\n"
     ]
    }
   ],
   "source": [
    "from main import *"
   ]
  },
  {
   "cell_type": "code",
   "execution_count": 3,
   "id": "402cc183-a38e-4d80-a242-be0f61bee989",
   "metadata": {},
   "outputs": [],
   "source": [
    "register001 = Registerrobot()"
   ]
  },
  {
   "cell_type": "code",
   "execution_count": 6,
   "id": "7033b4d7-1212-458d-bdf4-44778f319a60",
   "metadata": {},
   "outputs": [
    {
     "name": "stdout",
     "output_type": "stream",
     "text": [
      "initial browser ...  2023-05-14 23:11:13.536695\n",
      "browser ready ...  2023-05-14 23:11:14.728340 cost :  0:00:01.191645\n",
      "prepare webpage ...  2023-05-14 23:11:14.728340\n",
      "Finish prepare. 2023-05-14 23:11:15.242956 cost :  0:00:00.514616\n",
      "get 傳統醫學科 2023-05-14 23:11:16.272273 cost sum : 0:00:01.029317\n",
      "get 門診 2023-05-14 23:11:18.334698 cost sum : 0:00:03.091742\n",
      "fill in personal info 2023-05-14 23:11:20.941679 cost sum : 0:00:05.698723\n"
     ]
    },
    {
     "name": "stderr",
     "output_type": "stream",
     "text": [
      "C:\\Miniconda3\\lib\\site-packages\\urllib3\\connectionpool.py:1045: InsecureRequestWarning: Unverified HTTPS request is being made to host 'register.vhtt.gov.tw'. Adding certificate verification is strongly advised. See: https://urllib3.readthedocs.io/en/1.26.x/advanced-usage.html#ssl-warnings\n",
      "  warnings.warn(\n"
     ]
    },
    {
     "name": "stdout",
     "output_type": "stream",
     "text": [
      "OCR Finish 8082 2023-05-14 23:11:24.099520 cost sum : 0:00:08.856564\n",
      "fill ocr 8082 2023-05-14 23:11:24.099520 cost sum : 0:00:08.856564\n"
     ]
    }
   ],
   "source": [
    "register001.set_method()\n",
    "register001.prepare()\n",
    "register001.fill_in()"
   ]
  },
  {
   "cell_type": "code",
   "execution_count": 7,
   "id": "c19e70b5-5e0e-4f45-b27f-57e5e2ffdf1f",
   "metadata": {},
   "outputs": [
    {
     "name": "stdout",
     "output_type": "stream",
     "text": [
      "Submit 2023-05-14 23:11:26.858883 cost sum : 0:00:00.057013\n"
     ]
    }
   ],
   "source": [
    "register001.to_register()"
   ]
  },
  {
   "cell_type": "code",
   "execution_count": null,
   "id": "1cdb6aec-abf4-40ec-88ea-e058f8154669",
   "metadata": {},
   "outputs": [],
   "source": []
  }
 ],
 "metadata": {
  "kernelspec": {
   "display_name": "Python 3 (ipykernel)",
   "language": "python",
   "name": "python3"
  },
  "language_info": {
   "codemirror_mode": {
    "name": "ipython",
    "version": 3
   },
   "file_extension": ".py",
   "mimetype": "text/x-python",
   "name": "python",
   "nbconvert_exporter": "python",
   "pygments_lexer": "ipython3",
   "version": "3.10.10"
  }
 },
 "nbformat": 4,
 "nbformat_minor": 5
}
